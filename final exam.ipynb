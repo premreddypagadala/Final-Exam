{
  "cells": [
    {
      "cell_type": "code",
      "source": [
        "import numpy as np\n",
        "from tensorflow import keras\n",
        "from tensorflow.keras import layers\n",
        "from sklearn.model_selection import train_test_split\n",
        "\n",
        "# Load Fashion MNIST\n",
        "(x_train, y_train), (x_test, y_test) = keras.datasets.fashion_mnist.load_data()\n",
        "x_train = x_train.astype(\"float32\") / 255.0\n",
        "x_test = x_test.astype(\"float32\") / 255.0\n",
        "\n",
        "# Reshape data for CNN input if needed\n",
        "x_train = np.expand_dims(x_train, -1)\n",
        "x_test = np.expand_dims(x_test, -1)\n",
        "\n",
        "# Split for validation\n",
        "x_train, x_val, y_train, y_val = train_test_split(x_train, y_train, test_size=0.2, random_state=42)\n",
        "\n",
        "# Define manual hyperparameter grid\n",
        "param_grid = {\n",
        "    'batch_size': [32, 64],\n",
        "    'epochs': [5, 10],\n",
        "    'optimizer': ['adam', 'sgd']\n",
        "}\n",
        "\n",
        "# Track best results\n",
        "best_accuracy = 0.0\n",
        "best_params = {}\n",
        "\n",
        "# Loop over parameter combinations\n",
        "for batch_size in param_grid['batch_size']:\n",
        "    for epochs in param_grid['epochs']:\n",
        "        for optimizer in param_grid['optimizer']:\n",
        "            print(f\"Training with batch_size={batch_size}, epochs={epochs}, optimizer={optimizer}\")\n",
        "\n",
        "            model = keras.Sequential([\n",
        "                layers.Conv2D(32, (3, 3), activation='relu', input_shape=(28, 28, 1)),\n",
        "                layers.MaxPooling2D((2, 2)),\n",
        "                layers.Flatten(),\n",
        "                layers.Dense(64, activation='relu'),\n",
        "                layers.Dense(10, activation='softmax')\n",
        "            ])\n",
        "\n",
        "            model.compile(optimizer=optimizer,\n",
        "                          loss='sparse_categorical_crossentropy',\n",
        "                          metrics=['accuracy'])\n",
        "\n",
        "            model.fit(x_train, y_train,\n",
        "                      validation_data=(x_val, y_val),\n",
        "                      epochs=epochs,\n",
        "                      batch_size=batch_size,\n",
        "                      verbose=0)  # Set verbose=1 to see output\n",
        "\n",
        "            val_loss, val_accuracy = model.evaluate(x_val, y_val, verbose=0)\n",
        "            print(f\"Validation accuracy: {val_accuracy:.4f}\")\n",
        "\n",
        "            if val_accuracy > best_accuracy:\n",
        "                best_accuracy = val_accuracy\n",
        "                best_params = {\n",
        "                    'batch_size': batch_size,\n",
        "                    'epochs': epochs,\n",
        "                    'optimizer': optimizer\n",
        "                }\n",
        "\n",
        "print(\"\\nBest parameters:\")\n",
        "print(best_params)\n",
        "print(f\"Best validation accuracy: {best_accuracy:.4f}\")"
      ],
      "metadata": {
        "id": "EKRHCeX7rWym",
        "outputId": "4910a868-cb29-4cc4-871e-89f8628daf46",
        "colab": {
          "base_uri": "https://localhost:8080/"
        }
      },
      "execution_count": 6,
      "outputs": [
        {
          "output_type": "stream",
          "name": "stdout",
          "text": [
            "Downloading data from https://storage.googleapis.com/tensorflow/tf-keras-datasets/train-labels-idx1-ubyte.gz\n",
            "\u001b[1m29515/29515\u001b[0m \u001b[32m━━━━━━━━━━━━━━━━━━━━\u001b[0m\u001b[37m\u001b[0m \u001b[1m0s\u001b[0m 0us/step\n",
            "Downloading data from https://storage.googleapis.com/tensorflow/tf-keras-datasets/train-images-idx3-ubyte.gz\n",
            "\u001b[1m26421880/26421880\u001b[0m \u001b[32m━━━━━━━━━━━━━━━━━━━━\u001b[0m\u001b[37m\u001b[0m \u001b[1m0s\u001b[0m 0us/step\n",
            "Downloading data from https://storage.googleapis.com/tensorflow/tf-keras-datasets/t10k-labels-idx1-ubyte.gz\n",
            "\u001b[1m5148/5148\u001b[0m \u001b[32m━━━━━━━━━━━━━━━━━━━━\u001b[0m\u001b[37m\u001b[0m \u001b[1m0s\u001b[0m 1us/step\n",
            "Downloading data from https://storage.googleapis.com/tensorflow/tf-keras-datasets/t10k-images-idx3-ubyte.gz\n",
            "\u001b[1m4422102/4422102\u001b[0m \u001b[32m━━━━━━━━━━━━━━━━━━━━\u001b[0m\u001b[37m\u001b[0m \u001b[1m0s\u001b[0m 0us/step\n",
            "Training with batch_size=32, epochs=5, optimizer=adam\n"
          ]
        },
        {
          "output_type": "stream",
          "name": "stderr",
          "text": [
            "/usr/local/lib/python3.11/dist-packages/keras/src/layers/convolutional/base_conv.py:107: UserWarning: Do not pass an `input_shape`/`input_dim` argument to a layer. When using Sequential models, prefer using an `Input(shape)` object as the first layer in the model instead.\n",
            "  super().__init__(activity_regularizer=activity_regularizer, **kwargs)\n"
          ]
        },
        {
          "output_type": "stream",
          "name": "stdout",
          "text": [
            "Validation accuracy: 0.9055\n",
            "Training with batch_size=32, epochs=5, optimizer=sgd\n",
            "Validation accuracy: 0.8501\n",
            "Training with batch_size=32, epochs=10, optimizer=adam\n",
            "Validation accuracy: 0.9120\n",
            "Training with batch_size=32, epochs=10, optimizer=sgd\n",
            "Validation accuracy: 0.8893\n",
            "Training with batch_size=64, epochs=5, optimizer=adam\n",
            "Validation accuracy: 0.9018\n",
            "Training with batch_size=64, epochs=5, optimizer=sgd\n",
            "Validation accuracy: 0.8378\n",
            "Training with batch_size=64, epochs=10, optimizer=adam\n",
            "Validation accuracy: 0.9066\n",
            "Training with batch_size=64, epochs=10, optimizer=sgd\n",
            "Validation accuracy: 0.8637\n",
            "\n",
            "Best parameters:\n",
            "{'batch_size': 32, 'epochs': 10, 'optimizer': 'adam'}\n",
            "Best validation accuracy: 0.9120\n"
          ]
        }
      ]
    }
  ],
  "metadata": {
    "colab": {
      "name": "Welcome To Colab",
      "toc_visible": true,
      "provenance": [],
      "gpuType": "T4"
    },
    "kernelspec": {
      "display_name": "Python 3",
      "name": "python3"
    },
    "accelerator": "GPU"
  },
  "nbformat": 4,
  "nbformat_minor": 0
}